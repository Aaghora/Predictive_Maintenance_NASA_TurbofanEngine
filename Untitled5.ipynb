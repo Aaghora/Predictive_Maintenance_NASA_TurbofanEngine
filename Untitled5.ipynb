{
 "cells": [
  {
   "cell_type": "markdown",
   "id": "3961231c",
   "metadata": {},
   "source": [
    "Problem Statement:\n",
    "In industry, prognostics and health management are key topics for anticipating asset\n",
    "state and avoiding downtime and breakdowns. Run-to-Failure simulation data from\n",
    "turbofan jet engines is included.\n",
    "The C-MAPSS software was used to simulate engine degradation. Four separate sets\n",
    "of operational conditions and fault modes were simulated in four different ways. To\n",
    "characterize fault progression, record numerous sensor channels. The Prognostics CoE\n",
    "at NASA Ames provided the data set.\n",
    "The main goal is to predict the remaining useful life (RUL) of each engine. RUL is\n",
    "equivalent of number of flights remained for the engine after the last data point in the\n",
    "test dataset.\n",
    "\n",
    "Approach: The classical machine learning tasks like Data Exploration, Data Cleaning,\n",
    "Feature Engineering, Model Building and Model Testing. Try out different machine\n",
    "learning algorithms that’s best fit for the above case."
   ]
  },
  {
   "cell_type": "code",
   "execution_count": null,
   "id": "aba75cc8",
   "metadata": {},
   "outputs": [],
   "source": [
    "#Importing all the necessary libraries amd modules\n",
    "import pandas as pd\n",
    "import numpy as np\n",
    "import os\n",
    "import pickle\n",
    "import matplotlib.pyplot as plt\n",
    "%matplotlib inline\n",
    "import seaborn as sns\n",
    "from pandas_profiling import ProfileReport as pr\n",
    "import sklearn\n",
    "import xgboost\n",
    "from sklearn.linear_model import LinearRegression\n",
    "from sklearn.svm import SVR\n",
    "from sklearn.ensemble import RandomForestRegressor\n",
    "from sklearn.metrics import mean_squared_error, r2_score\n",
    "from sklearn.model_selection import train_test_split\n",
    "from sklearn.preprocessing import StandardScaler\n",
    "from sklearn.preprocessing import MinMaxScaler"
   ]
  },
  {
   "cell_type": "code",
   "execution_count": null,
   "id": "330feb36",
   "metadata": {},
   "outputs": [],
   "source": [
    "#Creating column names forthe dataset\n",
    "index_names = ['Unit_number', 'time_cycles']\n",
    "setting_names = ['OS_{}'.format(i+1) for i in range (0,3)]\n",
    "sensor_names = ['sensor_{}'.format(i+1) for i in range(0,21)]\n",
    "column_name = index_names + setting_names + sensor_names"
   ]
  },
  {
   "cell_type": "code",
   "execution_count": null,
   "id": "a32a0261",
   "metadata": {},
   "outputs": [],
   "source": [
    "#import dataset required\n",
    "train_data=pd.read_csv(\"train_FD001.txt\",sep='\\s+',header=None, names=column_name)\n",
    "test_data=pd.read_csv(\"test_FD001.txt\",sep='\\s+',header=None, index_col=None, names=column_name)\n",
    "y_valid=pd.read_csv(\"RUL_FD001.txt\",sep='\\s+',header=None, index_col=None, names=[\"RUL\"])"
   ]
  },
  {
   "cell_type": "code",
   "execution_count": null,
   "id": "418876ad",
   "metadata": {},
   "outputs": [],
   "source": [
    "x_valid = test_data.copy().groupby('Unit_number').last().reset_index().drop([\"Unit_number\",\"time_cycles\",\"OS_1\",\"OS_2\",\"OS_3\"],axis=1)"
   ]
  },
  {
   "cell_type": "code",
   "execution_count": null,
   "id": "1ac63b74",
   "metadata": {
    "scrolled": true
   },
   "outputs": [],
   "source": [
    "train_data.head(5)"
   ]
  },
  {
   "cell_type": "code",
   "execution_count": null,
   "id": "7330a07e",
   "metadata": {},
   "outputs": [],
   "source": [
    "profile=pr(train_data)\n",
    "profile2=pr(test_data)"
   ]
  },
  {
   "cell_type": "code",
   "execution_count": null,
   "id": "43215334",
   "metadata": {
    "scrolled": true
   },
   "outputs": [],
   "source": [
    "profile.to_notebook_iframe()\n",
    "profile2.to_notebook_iframe()"
   ]
  },
  {
   "cell_type": "code",
   "execution_count": null,
   "id": "c8c14713",
   "metadata": {},
   "outputs": [],
   "source": [
    "#Analysing data and generating report\n",
    "profile.to_file('Train_data_Report.html')\n",
    "profile2.to_file('Test_data_Report.html')"
   ]
  },
  {
   "cell_type": "code",
   "execution_count": null,
   "id": "5007ca85",
   "metadata": {
    "scrolled": true
   },
   "outputs": [],
   "source": [
    "train_data.describe().transpose()"
   ]
  },
  {
   "cell_type": "code",
   "execution_count": null,
   "id": "17830f56",
   "metadata": {},
   "outputs": [],
   "source": [
    "max_time_cycles=train_data[index_names].groupby('Unit_number').max()\n",
    "#sns.displot(max_time_cycles[\"time_cycles\"],kde=True,bins=10, height=6,aspect=2)\n",
    "#plt.xlabel('max time cycle')\n",
    "\n",
    "sns.displot(max_time_cycles['time_cycles'],kde=True,bins=20)\n",
    "plt.xlabel('max time cycle')"
   ]
  },
  {
   "cell_type": "markdown",
   "id": "1ae56a48",
   "metadata": {},
   "source": [
    "After analysing the statistics of Unit_number we can see the dataset has a total of 20631 rows, Unit numbers start at 1 and end at 100 as expected. It is important to note that the mean and quantiles don’t align neatly with the descriptive statistics of a vector from 1–100, the possible reason could be that each unit having different max time_cycles and thus a different number of rows. \n",
    "While inspecting the max time_cycles we can clearly see that the engine which failed the earliest did so, after 128 cycles, whereas the engine which was operated the longest broke down after 362 cycles. \n",
    "The average engine breaks between 200 and 206 cycles, however the standard deviation of 68 cycles is rather big.\n",
    "Visualizing this further we see that statistic properties of sensors data show that they don't have the same scale and not everydata follow a normal distribution (sensor1,5,6,10,16,18,19) so performing a Minmax scaler on our data will be appropriate."
   ]
  },
  {
   "cell_type": "code",
   "execution_count": null,
   "id": "48689eff",
   "metadata": {},
   "outputs": [],
   "source": [
    "max_time_cycles"
   ]
  },
  {
   "cell_type": "markdown",
   "id": "b774eb5b",
   "metadata": {},
   "source": [
    "Calculating Remaining Useful life (RUL) for each unit before failure."
   ]
  },
  {
   "cell_type": "code",
   "execution_count": null,
   "id": "672e0ff8",
   "metadata": {},
   "outputs": [],
   "source": [
    "def RUL_column(dt):\n",
    "    train_grouped_by_unit = dt.groupby(by='Unit_number') \n",
    "    max_time_cycles = train_grouped_by_unit['time_cycles'].max() \n",
    "    merged = dt.merge(max_time_cycles.to_frame(name='max_time_cycle'), left_on='Unit_number',right_index=True)\n",
    "    merged[\"RUL\"] = merged[\"max_time_cycle\"] - merged['time_cycles']\n",
    "    merged = merged.drop(\"max_time_cycle\", axis=1) \n",
    "    return merged"
   ]
  },
  {
   "cell_type": "code",
   "execution_count": null,
   "id": "7cb650fc",
   "metadata": {},
   "outputs": [],
   "source": [
    "#Merging RUL 'Remaing Useful life columns' with the train data\n",
    "train = RUL_column(train_data)\n",
    "train"
   ]
  },
  {
   "cell_type": "code",
   "execution_count": null,
   "id": "4938152c",
   "metadata": {},
   "outputs": [],
   "source": [
    "for x in sensor_names:\n",
    "    plt.figure(figsize=(13,7))\n",
    "    plt.boxplot(train[x])\n",
    "    plt.title(x)\n",
    "    plt.show()"
   ]
  },
  {
   "cell_type": "code",
   "execution_count": null,
   "id": "1b1d8a30",
   "metadata": {
    "scrolled": true
   },
   "outputs": [],
   "source": [
    "profile_train=pr(train)\n",
    "profile_train.to_notebook_iframe()\n"
   ]
  },
  {
   "cell_type": "code",
   "execution_count": null,
   "id": "f981f3fa",
   "metadata": {},
   "outputs": [],
   "source": [
    "profile_train.to_file('Train_data_Report_with_RUL.html')"
   ]
  },
  {
   "cell_type": "code",
   "execution_count": null,
   "id": "d00dba07",
   "metadata": {},
   "outputs": [],
   "source": [
    "#splitting Data into test and train \n",
    "x=train.iloc[:,5:26].copy()\n",
    "y=train['RUL']\n",
    "x_train,x_test,y_train, y_test=train_test_split(x,y,test_size=.25,random_state=20,stratify=None)"
   ]
  },
  {
   "cell_type": "markdown",
   "id": "8011a1f7",
   "metadata": {},
   "source": [
    "We have observed that the datas are not scaled properly, all the datas are on different scales also not all the data follow normal distribution. So Scaling is rewuired,we are going to scale the data  with Min and max Scalar"
   ]
  },
  {
   "cell_type": "code",
   "execution_count": null,
   "id": "0e623c14",
   "metadata": {},
   "outputs": [],
   "source": [
    "#Scaling the data\n",
    "scaled=MinMaxScaler()\n",
    "x_train_scaled=scaled.fit_transform(x_train)\n",
    "x_test_scaled=scaled.fit_transform(x_test)\n",
    "x_valid_scaled=scaled.fit_transform(x_valid)"
   ]
  },
  {
   "cell_type": "code",
   "execution_count": null,
   "id": "77723188",
   "metadata": {},
   "outputs": [],
   "source": [
    "#plotting the and check the distribution of data from sensors\n",
    "sensor_names=['s_{}'.format(i) for i in range(1,22) if i not in [1,5,6,10,16,18,19]]\n",
    "pd.DataFrame(x_train_scaled,columns=['s_{}'.format(i) for i in range(1,22)])[sensor_names].hist(bins=100, figsize=(18,16))\n"
   ]
  },
  {
   "cell_type": "markdown",
   "id": "6da9ce6c",
   "metadata": {},
   "source": [
    "Developing Model and comparing between Y actual and Y predicted values on-\n",
    "1) Linear Regression\n",
    "2)SVR model\n",
    "3)RandomForest Regressor\n",
    "4)xgboost"
   ]
  },
  {
   "cell_type": "code",
   "execution_count": null,
   "id": "3af2f80d",
   "metadata": {},
   "outputs": [],
   "source": [
    "#Model 1\n",
    "lr=LinearRegression()\n",
    "lr.fit(x_train_scaled,y_train)"
   ]
  },
  {
   "cell_type": "code",
   "execution_count": null,
   "id": "4bde2c2c",
   "metadata": {
    "scrolled": true
   },
   "outputs": [],
   "source": [
    "lr.intercept_,lr.coef_"
   ]
  },
  {
   "cell_type": "code",
   "execution_count": null,
   "id": "30df15e9",
   "metadata": {},
   "outputs": [],
   "source": [
    "y_lr_train=lr.predict(x_train_scaled)\n",
    "y_lr_test=lr.predict(x_test_scaled)\n",
    "y_lr_valid=lr.predict(x_valid_scaled)"
   ]
  },
  {
   "cell_type": "code",
   "execution_count": null,
   "id": "5dc831fe",
   "metadata": {},
   "outputs": [],
   "source": [
    "#Evaluating parameter (R-Score and RMSE)\n",
    "def evaluate(y_true, y_hat, label='test'):\n",
    "    mse = mean_squared_error(y_true, y_hat)\n",
    "    rmse = np.sqrt(mse)\n",
    "    variance = r2_score(y_true, y_hat)\n",
    "    print('{} set RMSE:{}, R2:{}'.format(label, rmse, variance))"
   ]
  },
  {
   "cell_type": "code",
   "execution_count": null,
   "id": "09afc4c5",
   "metadata": {},
   "outputs": [],
   "source": [
    "#Defining Graph plot for Y actual and Y predicted by model\n",
    "def plot_predActual(y_test, y_test_hat):\n",
    "  \n",
    "    indices = np.arange(len(y_test_hat))\n",
    "    wth= 0.6\n",
    "    plt.figure(figsize=(70,30))\n",
    "    true_values = [int(x) for x in y_test.values]\n",
    "    predicted_values = list(y_test_hat)\n",
    "\n",
    "    plt.bar(indices, true_values, width=wth,color='g', label='True RUL')\n",
    "    plt.bar([i for i in indices], predicted_values, width=0.5*wth, color='r', alpha=0.7, label='Predicted RUL')\n",
    "\n",
    "    plt.legend(prop={'size': 40})\n",
    "    plt.tick_params(labelsize=40)\n",
    "\n",
    "    plt.show()"
   ]
  },
  {
   "cell_type": "code",
   "execution_count": null,
   "id": "ebf2341b",
   "metadata": {},
   "outputs": [],
   "source": [
    "evaluate(y_train,y_lr_train,label='Train')\n",
    "evaluate(y_test, y_lr_test, label='Test')\n",
    "evaluate(y_valid, y_lr_valid, label='Valid')"
   ]
  },
  {
   "cell_type": "code",
   "execution_count": null,
   "id": "7ec595d9",
   "metadata": {},
   "outputs": [],
   "source": [
    "plot_predActual(y_valid,y_lr_valid)"
   ]
  },
  {
   "cell_type": "markdown",
   "id": "99f328a7",
   "metadata": {},
   "source": [
    "2nd Model SVR"
   ]
  },
  {
   "cell_type": "code",
   "execution_count": null,
   "id": "c7744889",
   "metadata": {},
   "outputs": [],
   "source": [
    "svr=SVR()\n",
    "svr.fit(x_train_scaled,y_train)"
   ]
  },
  {
   "cell_type": "code",
   "execution_count": null,
   "id": "ba12ef99",
   "metadata": {},
   "outputs": [],
   "source": [
    "y_svr_train=svr.predict(x_train_scaled)\n",
    "y_svr_test=svr.predict(x_test_scaled)\n",
    "y_svr_valid=svr.predict(x_valid_scaled)"
   ]
  },
  {
   "cell_type": "code",
   "execution_count": null,
   "id": "80ff5bb9",
   "metadata": {},
   "outputs": [],
   "source": [
    "evaluate(y_train,y_svr_train,label='Train')\n",
    "evaluate(y_test, y_svr_test, label='Test')\n",
    "evaluate(y_valid, y_svr_valid, label='Valid')"
   ]
  },
  {
   "cell_type": "code",
   "execution_count": null,
   "id": "5389c21d",
   "metadata": {
    "scrolled": true
   },
   "outputs": [],
   "source": [
    "plot_predActual(y_valid,y_svr_valid)"
   ]
  },
  {
   "cell_type": "markdown",
   "id": "fc693ae7",
   "metadata": {},
   "source": [
    "model #3  Randomforest Regressor"
   ]
  },
  {
   "cell_type": "code",
   "execution_count": null,
   "id": "d04d0737",
   "metadata": {},
   "outputs": [],
   "source": [
    "rf= RandomForestRegressor(max_features=\"sqrt\", random_state=50)\n",
    "rf.fit(x_train_scaled,y_train)"
   ]
  },
  {
   "cell_type": "code",
   "execution_count": null,
   "id": "9ce1fbcf",
   "metadata": {},
   "outputs": [],
   "source": [
    "y_rf_train=rf.predict(x_train_scaled)\n",
    "y_rf_test=rf.predict(x_test_scaled)\n",
    "y_rf_valid=rf.predict(x_valid_scaled)"
   ]
  },
  {
   "cell_type": "code",
   "execution_count": null,
   "id": "b7bf2193",
   "metadata": {},
   "outputs": [],
   "source": [
    "evaluate(y_train,y_rf_train,label='Train')\n",
    "evaluate(y_test, y_rf_test, label='Test')\n",
    "evaluate(y_valid, y_rf_valid, label='Valid')"
   ]
  },
  {
   "cell_type": "code",
   "execution_count": null,
   "id": "d8575584",
   "metadata": {
    "scrolled": true
   },
   "outputs": [],
   "source": [
    "plot_predActual(y_valid,y_rf_valid)"
   ]
  },
  {
   "cell_type": "code",
   "execution_count": null,
   "id": "3c1e93b1",
   "metadata": {},
   "outputs": [],
   "source": [
    "\n",
    "xgb = xgboost.XGBRegressor(n_estimators=110, learning_rate=0.02, gamma=0, subsample=0.8,colsample_bytree=0.5, max_depth=3)\n",
    "xgb.fit(x_train_scaled, y_train)"
   ]
  },
  {
   "cell_type": "code",
   "execution_count": null,
   "id": "2cc6af5f",
   "metadata": {},
   "outputs": [],
   "source": [
    "y_xgb_train = xgb.predict(x_train_scaled)\n",
    "y_xgb_test = xgb.predict(x_test_scaled)\n",
    "y_xgb_valid = xgb.predict(x_valid_scaled)"
   ]
  },
  {
   "cell_type": "code",
   "execution_count": null,
   "id": "4532d6d0",
   "metadata": {},
   "outputs": [],
   "source": [
    "evaluate(y_train,y_xgb_train, label='train')\n",
    "evaluate(y_test, y_xgb_test, label='test')\n",
    "evaluate(y_valid, y_xgb_valid, label='valid')"
   ]
  },
  {
   "cell_type": "code",
   "execution_count": null,
   "id": "1bd43bb6",
   "metadata": {},
   "outputs": [],
   "source": [
    "plot_predActual(y_valid, y_xgb_valid)"
   ]
  },
  {
   "cell_type": "markdown",
   "id": "cda80764",
   "metadata": {},
   "source": [
    "After comparing the score of all the model we are in a position to say that Xg model is bestsuited as it is not under fitted or over fitted and also the accuray is 46% "
   ]
  },
  {
   "cell_type": "code",
   "execution_count": null,
   "id": "b9722822",
   "metadata": {},
   "outputs": [],
   "source": []
  }
 ],
 "metadata": {
  "kernelspec": {
   "display_name": "Python 3 (ipykernel)",
   "language": "python",
   "name": "python3"
  },
  "language_info": {
   "codemirror_mode": {
    "name": "ipython",
    "version": 3
   },
   "file_extension": ".py",
   "mimetype": "text/x-python",
   "name": "python",
   "nbconvert_exporter": "python",
   "pygments_lexer": "ipython3",
   "version": "3.9.13"
  }
 },
 "nbformat": 4,
 "nbformat_minor": 5
}
